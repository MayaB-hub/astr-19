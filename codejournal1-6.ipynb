{
 "cells": [
  {
   "cell_type": "code",
   "execution_count": 1,
   "id": "cac33826-a47a-4134-a391-a155bc12ba72",
   "metadata": {},
   "outputs": [],
   "source": [
    "import math\n",
    "\n",
    "def my_sin(x):\n",
    "    return math.sin(x) "
   ]
  },
  {
   "cell_type": "markdown",
   "id": "08c50139-45b3-4a8b-adc9-ac81e8b95034",
   "metadata": {},
   "source": [
    "This function takes a number `x` and returns the sine of that number using the `math.sin()` function"
   ]
  },
  {
   "cell_type": "code",
   "execution_count": 2,
   "id": "0b2272d0-ce3a-46e3-8f69-76056bf19f97",
   "metadata": {},
   "outputs": [],
   "source": [
    "def my_cos(x):\n",
    "    return math.cos(x)"
   ]
  },
  {
   "cell_type": "markdown",
   "id": "7d3019c8-f4df-4ab7-9f2b-4cc1e93a336f",
   "metadata": {},
   "source": [
    "This function takes a number `x` and returns the cosine of that number using the `math.cos()` function"
   ]
  },
  {
   "cell_type": "code",
   "execution_count": 3,
   "id": "a663219b-46b2-403f-9cb0-04fc52b663ed",
   "metadata": {},
   "outputs": [],
   "source": [
    "x_values = []\n",
    "sin_values = []\n",
    "cos_values = []\n",
    "\n",
    "start = 0\n",
    "end = 2 * math.pi\n",
    "steps = 1000\n",
    "\n",
    "step_size = (end - start) / (steps - 1)\n",
    "\n",
    "for i in range(steps):\n",
    "    x = start + i * step_size\n",
    "    x_values.append(x)\n",
    "    sin_values.append(my_sin(x))\n",
    "    cos_values.append(my_cos(x))"
   ]
  },
  {
   "cell_type": "markdown",
   "id": "4035c85d-073d-4733-9532-4cecb7bba7f6",
   "metadata": {},
   "source": [
    "This creates a list of x values between 0 and 2 (with 1000 points and 999 steps in between points), and uses our functions to find sin(x) and cos(x) for each x. By appending, we add the current value of x after these calculations back into our original blank list."
   ]
  },
  {
   "cell_type": "code",
   "execution_count": 5,
   "id": "3fc23911-86f3-4426-bd9a-1db0da2ebe92",
   "metadata": {},
   "outputs": [
    {
     "name": "stdout",
     "output_type": "stream",
     "text": [
      "x\t\t sin(x)\t\t cos(x)\n",
      "0.00000\t\t 0.00000\t 1.00000\n",
      "0.00629\t\t 0.00629\t 0.99998\n",
      "0.01258\t\t 0.01258\t 0.99992\n",
      "0.01887\t\t 0.01887\t 0.99982\n",
      "0.02516\t\t 0.02516\t 0.99968\n",
      "0.03145\t\t 0.03144\t 0.99951\n",
      "0.03774\t\t 0.03773\t 0.99929\n",
      "0.04403\t\t 0.04401\t 0.99903\n",
      "0.05032\t\t 0.05029\t 0.99873\n",
      "0.05661\t\t 0.05658\t 0.99840\n"
     ]
    }
   ],
   "source": [
    "print(\"x\\t\\t sin(x)\\t\\t cos(x)\")\n",
    "\n",
    "for i in range(10):\n",
    "    print(f\"{x_values[i]:.5f}\\t\\t {sin_values[i]:.5f}\\t {cos_values[i]:.5f}\")"
   ]
  },
  {
   "cell_type": "markdown",
   "id": "517e0179-d39f-407e-80f2-467f4d376d6c",
   "metadata": {},
   "source": [
    "This is a loop that will show the first 10 values from our lists in a table format. Using an f string, we can evaluate variable numbers inside the text and replace them with the value. "
   ]
  },
  {
   "cell_type": "code",
   "execution_count": null,
   "id": "7a126743-084b-440b-b71c-ab11e1c9f3b7",
   "metadata": {},
   "outputs": [],
   "source": []
  }
 ],
 "metadata": {
  "kernelspec": {
   "display_name": "Python 3 (ipykernel)",
   "language": "python",
   "name": "python3"
  },
  "language_info": {
   "codemirror_mode": {
    "name": "ipython",
    "version": 3
   },
   "file_extension": ".py",
   "mimetype": "text/x-python",
   "name": "python",
   "nbconvert_exporter": "python",
   "pygments_lexer": "ipython3",
   "version": "3.14.0"
  }
 },
 "nbformat": 4,
 "nbformat_minor": 5
}
